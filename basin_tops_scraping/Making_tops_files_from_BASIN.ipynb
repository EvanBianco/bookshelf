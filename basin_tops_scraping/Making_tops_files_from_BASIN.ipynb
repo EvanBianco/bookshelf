{
 "cells": [
  {
   "cell_type": "code",
   "execution_count": 1,
   "metadata": {},
   "outputs": [],
   "source": [
    "import basin_scrape_utils as bsu"
   ]
  },
  {
   "cell_type": "code",
   "execution_count": 2,
   "metadata": {},
   "outputs": [],
   "source": [
    "meta_params = bsu.load_meta_params()\n",
    "meta_descr = bsu.load_meta_field_descriptions()"
   ]
  },
  {
   "cell_type": "code",
   "execution_count": 3,
   "metadata": {},
   "outputs": [],
   "source": [
    "# Config\n",
    "\n",
    "domain = 'http://basin.gdr.nrcan.gc.ca/wells'\n",
    "url = 'http://basin.gdr.nrcan.gc.ca/wells/single_lithostrat_e.php?type=picks&well='\n",
    "\n",
    "data_dir = 'data'\n",
    "wells_wanted_file = 'seq_numbers_selected.txt'\n",
    "locations_file = 'data/NS_well_locations.txt'\n",
    "author = 'MACLEAN,B.C. & WADE,J.A.'\n",
    "out_dir = 'tops_formatted'"
   ]
  },
  {
   "cell_type": "code",
   "execution_count": 4,
   "metadata": {},
   "outputs": [],
   "source": [
    "with open(data_dir + '/' + wells_wanted_file,'r') as f:\n",
    "    lines = f.readlines()\n",
    "\n",
    "seq_nums = [line.split(',')[0].replace('\"','') for line in lines]"
   ]
  },
  {
   "cell_type": "code",
   "execution_count": 5,
   "metadata": {},
   "outputs": [
    {
     "name": "stdout",
     "output_type": "stream",
     "text": [
      "saving:  tops_formatted/ABENAKI_L-57.tops\n",
      "saving:  tops_formatted/ARCADIA_J-16.tops\n",
      "saving:  tops_formatted/CITNALTA_I-59.tops\n",
      "saving:  tops_formatted/COHASSET_L-97.tops\n",
      "saving:  tops_formatted/EAGLE_D-21.tops\n",
      "saving:  tops_formatted/GLENELG_E-58.tops\n",
      "saving:  tops_formatted/GLENELG_E-58A.tops\n",
      "saving:  tops_formatted/GLENELG_H-38.tops\n",
      "saving:  tops_formatted/GLENELG_H-59.tops\n",
      "saving:  tops_formatted/GLENELG_N-49.tops\n",
      "saving:  tops_formatted/INTREPID_L-80.tops\n",
      "saving:  tops_formatted/KEGESHOOK_G-67.tops\n",
      "saving:  tops_formatted/MARMORA_C-34.tops\n",
      "saving:  tops_formatted/MARMORA_P-35.tops\n",
      "saving:  tops_formatted/MIGRANT_N-20.tops\n",
      "saving:  tops_formatted/NORTH_TRIUMPH_B-52.tops\n",
      "saving:  tops_formatted/NORTH_TRIUMPH_G-43.tops\n",
      "saving:  tops_formatted/OLYMPIA_A-12.tops\n",
      "saving:  tops_formatted/ONONDAGA_B-96.tops\n",
      "saving:  tops_formatted/ONONDAGA_E-84.tops\n"
     ]
    }
   ],
   "source": [
    "for seq_num in seq_nums:\n",
    "    # Get well header info\n",
    "    well_info_table = bsu.get_well_header_table(url, seq_num)\n",
    "    well_info_dict = bsu.well_header_dict(well_info_table, \n",
    "                                          meta_params, \n",
    "                                          meta_descr)\n",
    "\n",
    "    well_info_text = bsu.make_header_text(well_info_dict)\n",
    "\n",
    "    # get_well_name\n",
    "    seq_num_dict = bsu.make_well_seq_lookup(data_dir, wells_wanted_file)\n",
    "    well_name = seq_num_dict[seq_num]\n",
    "\n",
    "    # body\n",
    "    well_tops_df = bsu.get_topsdf_from_basin(url, seq_num, author)\n",
    "\n",
    "    # location header\n",
    "    header_dict = bsu.make_locations_dict(locations_file, well_name)\n",
    "    header_text = bsu.make_header_text(header_dict)\n",
    "\n",
    "    # prepare text header\n",
    "    text_head = bsu.text_header(well_name, well_info_text, header_text)\n",
    "\n",
    "    # write file\n",
    "    fname = out_dir + '/' + well_name.replace(' ', '_') + '.tops'\n",
    "    print('saving: ', fname)\n",
    "    bsu.write_tops_file(fname, text_head, well_tops_df)"
   ]
  }
 ],
 "metadata": {
  "kernelspec": {
   "display_name": "geocomp",
   "language": "python",
   "name": "geocomp"
  },
  "language_info": {
   "codemirror_mode": {
    "name": "ipython",
    "version": 3
   },
   "file_extension": ".py",
   "mimetype": "text/x-python",
   "name": "python",
   "nbconvert_exporter": "python",
   "pygments_lexer": "ipython3",
   "version": "3.6.7"
  }
 },
 "nbformat": 4,
 "nbformat_minor": 2
}
